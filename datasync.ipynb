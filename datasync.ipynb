{
 "cells": [
  {
   "cell_type": "code",
   "execution_count": null,
   "metadata": {
    "execution": {
     "iopub.execute_input": "2023-05-05T18:46:48.119266Z",
     "iopub.status.busy": "2023-05-05T18:46:48.118664Z"
    },
    "id": "qfGtMLwLpCr3"
   },
   "outputs": [
    {
     "name": "stdout",
     "output_type": "stream",
     "text": [
     ]
    }
   ],
   "source": [
    "# SYNC IMAGE TO GOOGLE DRIVE\n",
    "%cd /storage/bin/\n",
    "!python -m pip install pydrive2\n",
    "!python pydrivesync.py /storage/outputs 1GkT1rnhpD0Hdd1BMYceaN0YSSnJWJcGK"
   ]
  }
 ],
 "metadata": {
  "colab": {
   "private_outputs": true,
   "provenance": []
  },
  "gpuClass": "standard",
  "kernelspec": {
   "display_name": "Python 3 (ipykernel)",
   "language": "python",
   "name": "python3"
  },
  "language_info": {
   "codemirror_mode": {
    "name": "ipython",
    "version": 3
   },
   "file_extension": ".py",
   "mimetype": "text/x-python",
   "name": "python",
   "nbconvert_exporter": "python",
   "pygments_lexer": "ipython3",
   "version": "3.9.16"
  }
 },
 "nbformat": 4,
 "nbformat_minor": 4
}
