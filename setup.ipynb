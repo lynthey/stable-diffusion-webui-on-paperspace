{
 "cells": [
  {
   "cell_type": "code",
   "execution_count": 1,
   "metadata": {
    "execution": {
     "iopub.execute_input": "2023-11-04T04:06:05.089819Z",
     "iopub.status.busy": "2023-11-04T04:06:05.089520Z",
     "iopub.status.idle": "2023-11-04T04:06:08.237853Z",
     "shell.execute_reply": "2023-11-04T04:06:08.236960Z",
     "shell.execute_reply.started": "2023-11-04T04:06:05.089819Z"
    },
    "id": "JMVf8COkpK0e"
   },
   "outputs": [
    {
     "name": "stdout",
     "output_type": "stream",
     "text": [
      "/notebooks\n",
      "Cloning into 'stable-diffusion-webui'...\n",
      "remote: Enumerating objects: 27956, done.\u001b[K\n",
      "remote: Counting objects: 100% (99/99), done.\u001b[K\n",
      "remote: Compressing objects: 100% (61/61), done.\u001b[K\n",
      "remote: Total 27956 (delta 55), reused 70 (delta 38), pack-reused 27857\u001b[K\n",
      "Receiving objects: 100% (27956/27956), 32.52 MiB | 58.83 MiB/s, done.\n",
      "Resolving deltas: 100% (19559/19559), done.\n"
     ]
    }
   ],
   "source": [
    "#(1) AUTOMATIC1111のダウンロード\n",
    "%cd /storage\n",
    "!rm -rf stable-diffusion-webui\n",
    "!git clone https://github.com/AUTOMATIC1111/stable-diffusion-webui\n"
   ]
  },
  {
   "cell_type": "code",
   "execution_count": 2,
   "metadata": {
    "execution": {
     "iopub.execute_input": "2023-11-04T04:42:43.630091Z",
     "iopub.status.busy": "2023-11-04T04:42:43.629353Z",
     "iopub.status.idle": "2023-11-04T04:44:48.917439Z",
     "shell.execute_reply": "2023-11-04T04:44:48.916488Z",
     "shell.execute_reply.started": "2023-11-04T04:42:43.630054Z"
    },
    "id": "rIUmi3RhpQiW"
   },
   "outputs": [
    {
     "name": "stdout",
     "output_type": "stream",
     "text": [
      "/notebooks/stable-diffusion-webui/models/Stable-diffusion\n",
      "File ‘BlueberryMix-1.0.safetensors’ already there; not retrieving.\n",
      "File ‘Chilloutmix-Ni-pruned-fp32-fix.safetensors’ already there; not retrieving.\n",
      "File ‘chilled_remix_v1vae.safetensors’ already there; not retrieving.\n",
      "File ‘chilled_remix_v2.safetensors’ already there; not retrieving.\n",
      "--2023-11-04 04:42:47--  https://huggingface.co/nolanaatama/prfctwrld/resolve/main/prfctwrld.safetensors\n",
      "Resolving huggingface.co (huggingface.co)... 18.238.49.70, 18.238.49.10, 18.238.49.117, ...\n",
      "Connecting to huggingface.co (huggingface.co)|18.238.49.70|:443... connected.\n",
      "HTTP request sent, awaiting response... 302 Found\n",
      "Location: https://cdn-lfs.huggingface.co/repos/ce/bb/cebbf6097865531c7b51d9c5438b5d0f194c9d22c2cb4a820d0d5f9f898af07f/24a393500f15c3243a4212c2ceab764e43f343d8442b0f4cec430dac6ea00ecb?response-content-disposition=attachment%3B+filename*%3DUTF-8%27%27prfctwrld.safetensors%3B+filename%3D%22prfctwrld.safetensors%22%3B&Expires=1699332167&Policy=eyJTdGF0ZW1lbnQiOlt7IkNvbmRpdGlvbiI6eyJEYXRlTGVzc1RoYW4iOnsiQVdTOkVwb2NoVGltZSI6MTY5OTMzMjE2N319LCJSZXNvdXJjZSI6Imh0dHBzOi8vY2RuLWxmcy5odWdnaW5nZmFjZS5jby9yZXBvcy9jZS9iYi9jZWJiZjYwOTc4NjU1MzFjN2I1MWQ5YzU0MzhiNWQwZjE5NGM5ZDIyYzJjYjRhODIwZDBkNWY5Zjg5OGFmMDdmLzI0YTM5MzUwMGYxNWMzMjQzYTQyMTJjMmNlYWI3NjRlNDNmMzQzZDg0NDJiMGY0Y2VjNDMwZGFjNmVhMDBlY2I%7EcmVzcG9uc2UtY29udGVudC1kaXNwb3NpdGlvbj0qIn1dfQ__&Signature=qcmsA8bLgIuk5iH3JeqFAm%7EflPMmZns0AeVf-xAzxVCsFt2V9f4lg9R8Q%7E7TjiT%7E4wsAhEG5GR0iXPwZajvER803h3KDp8j2HST5ZkQtVigIfv8qI6BqQ-ThHZZkaFdZeAojvuBc6OijkosU4DQ%7EuDV-svOVPK1fiTtX13p3FASJrxw0YfZVdFX3HcHutMu6-sIt6MUkGfOk01ERR3rslBDTaIi-mEInGSRWWKLmyhBW1dFuJlWo1kQPesiwYSIksGEvu89uJ0P0bu3RlbtIMxRf3lWkfv9HeQrI624jRK1Q5JAj9grBfLuDI9aggYX7-4%7ENefeeDqbfdy89gxla0A__&Key-Pair-Id=KVTP0A1DKRTAX [following]\n",
      "--2023-11-04 04:42:47--  https://cdn-lfs.huggingface.co/repos/ce/bb/cebbf6097865531c7b51d9c5438b5d0f194c9d22c2cb4a820d0d5f9f898af07f/24a393500f15c3243a4212c2ceab764e43f343d8442b0f4cec430dac6ea00ecb?response-content-disposition=attachment%3B+filename*%3DUTF-8%27%27prfctwrld.safetensors%3B+filename%3D%22prfctwrld.safetensors%22%3B&Expires=1699332167&Policy=eyJTdGF0ZW1lbnQiOlt7IkNvbmRpdGlvbiI6eyJEYXRlTGVzc1RoYW4iOnsiQVdTOkVwb2NoVGltZSI6MTY5OTMzMjE2N319LCJSZXNvdXJjZSI6Imh0dHBzOi8vY2RuLWxmcy5odWdnaW5nZmFjZS5jby9yZXBvcy9jZS9iYi9jZWJiZjYwOTc4NjU1MzFjN2I1MWQ5YzU0MzhiNWQwZjE5NGM5ZDIyYzJjYjRhODIwZDBkNWY5Zjg5OGFmMDdmLzI0YTM5MzUwMGYxNWMzMjQzYTQyMTJjMmNlYWI3NjRlNDNmMzQzZDg0NDJiMGY0Y2VjNDMwZGFjNmVhMDBlY2I%7EcmVzcG9uc2UtY29udGVudC1kaXNwb3NpdGlvbj0qIn1dfQ__&Signature=qcmsA8bLgIuk5iH3JeqFAm%7EflPMmZns0AeVf-xAzxVCsFt2V9f4lg9R8Q%7E7TjiT%7E4wsAhEG5GR0iXPwZajvER803h3KDp8j2HST5ZkQtVigIfv8qI6BqQ-ThHZZkaFdZeAojvuBc6OijkosU4DQ%7EuDV-svOVPK1fiTtX13p3FASJrxw0YfZVdFX3HcHutMu6-sIt6MUkGfOk01ERR3rslBDTaIi-mEInGSRWWKLmyhBW1dFuJlWo1kQPesiwYSIksGEvu89uJ0P0bu3RlbtIMxRf3lWkfv9HeQrI624jRK1Q5JAj9grBfLuDI9aggYX7-4%7ENefeeDqbfdy89gxla0A__&Key-Pair-Id=KVTP0A1DKRTAX\n",
      "Resolving cdn-lfs.huggingface.co (cdn-lfs.huggingface.co)... 18.164.116.15, 18.164.116.66, 18.164.116.111, ...\n",
      "Connecting to cdn-lfs.huggingface.co (cdn-lfs.huggingface.co)|18.164.116.15|:443... connected.\n",
      "HTTP request sent, awaiting response... 200 OK\n",
      "Length: 4265098988 (4.0G) [binary/octet-stream]\n",
      "Saving to: ‘prfctwrld.safetensors’\n",
      "\n",
      "prfctwrld.safetenso 100%[===================>]   3.97G  38.9MB/s    in 1m 59s  \n",
      "\n",
      "2023-11-04 04:44:46 (34.2 MB/s) - ‘prfctwrld.safetensors’ saved [4265098988/4265098988]\n",
      "\n",
      "/notebooks/stable-diffusion-webui/embeddings\n",
      "File ‘negative_hand-neg.pt’ already there; not retrieving.\n",
      "File ‘bad_prompt.pt’ already there; not retrieving.\n",
      "File ‘EasyNegative.safetensors’ already there; not retrieving.\n",
      "\n"
     ]
    }
   ],
   "source": [
    "#(2) モデルのダウンロード（ここにダウンロードしたいモデルを追加）\n",
    "%cd /storage/stable-diffusion-webui/models/Stable-diffusion\n",
    "!wget -nc https://civitai.com/api/download/models/16859 -O BlueberryMix-1.0.safetensors\n",
    "!wget -nc https://civitai.com/api/download/models/11745 -O Chilloutmix-Ni-pruned-fp32-fix.safetensors\n",
    "!wget -nc https://huggingface.co/sazyou-roukaku/chilled_remix/resolve/5876389637f3f82d2b33a609f85f9b36aa4748fe/chilled_remix_v1vae.safetensors -O chilled_remix_v1vae.safetensors\n",
    "!wget -nc https://huggingface.co/sazyou-roukaku/chilled_remix/resolve/main/chilled_remix_v2.safetensors -O chilled_remix_v2.safetensors\n",
    "!wget -nc https://huggingface.co/nolanaatama/prfctwrld/resolve/main/prfctwrld.safetensors\n",
    "\n",
    "\n",
    "%cd /storage/stable-diffusion-webui/embeddings\n",
    "!wget -nc https://civitai.com/api/download/models/60938 -O negative_hand-neg.pt\n",
    "!wget -nc https://huggingface.co/datasets/Nerfgun3/bad_prompt/resolve/main/bad_prompt_version2.pt -O bad_prompt.pt\n",
    "!wget -nc https://huggingface.co/datasets/gsdf/EasyNegative/resolve/main/EasyNegative.safetensors\n",
    "\n",
    "%cd /storage/stable-diffusion-webui/models/Lora/\n",
    "!get -nc https://huggingface.co/nolanaatama/fshngrl/resolve/main/fshngrl.safetensors\n"
   ]
  },
  {
   "cell_type": "code",
   "execution_count": 3,
   "metadata": {
    "execution": {
     "iopub.execute_input": "2023-11-04T04:09:31.170739Z",
     "iopub.status.busy": "2023-11-04T04:09:31.170025Z",
     "iopub.status.idle": "2023-11-04T04:09:32.996643Z",
     "shell.execute_reply": "2023-11-04T04:09:32.995843Z",
     "shell.execute_reply.started": "2023-11-04T04:09:31.170705Z"
    },
    "id": "a3c-0LBjpYXe"
   },
   "outputs": [
    {
     "name": "stdout",
     "output_type": "stream",
     "text": [
      "/notebooks/stable-diffusion-webui\n",
      "Already on 'master'\n",
      "Your branch is up to date with 'origin/master'.\n",
      "Already up to date.\n"
     ]
    }
   ],
   "source": [
    "#(4) AUTOMATIC1111アップデート（アップデートが必要な時のみ実行）\n",
    "%cd /storage/stable-diffusion-webui\n",
    "!git checkout master\n",
    "!git pull\n"
   ]
  }
 ],
 "metadata": {
  "colab": {
   "private_outputs": true,
   "provenance": []
  },
  "gpuClass": "standard",
  "kernelspec": {
   "display_name": "Python 3 (ipykernel)",
   "language": "python",
   "name": "python3"
  },
  "language_info": {
   "codemirror_mode": {
    "name": "ipython",
    "version": 3
   },
   "file_extension": ".py",
   "mimetype": "text/x-python",
   "name": "python",
   "nbconvert_exporter": "python",
   "pygments_lexer": "ipython3",
   "version": "3.9.16"
  }
 },
 "nbformat": 4,
 "nbformat_minor": 4
}
