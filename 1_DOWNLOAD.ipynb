{
 "cells": [
  {
   "cell_type": "code",
   "execution_count": 6,
   "metadata": {
    "execution": {
     "iopub.execute_input": "2023-05-13T08:21:49.375025Z",
     "iopub.status.busy": "2023-05-13T08:21:49.374734Z",
     "iopub.status.idle": "2023-05-13T08:21:50.975229Z",
     "shell.execute_reply": "2023-05-13T08:21:50.974623Z",
     "shell.execute_reply.started": "2023-05-13T08:21:49.375001Z"
    },
    "id": "qfGtMLwLpCr3"
   },
   "outputs": [
    {
     "name": "stdout",
     "output_type": "stream",
     "text": [
      "/storage\n",
      "./outputs/\n",
      "-rw-r--r-- 1 root root 112 May 13 08:21 ./download/outputs-20230513-082149.tgz\n"
     ]
    }
   ],
   "source": [
    "# Backup outputs and delete for Download\n",
    "%cd /storage/\n",
    "!tar -czvf `date +'./download/outputs-%Y%m%d-%H%M%S.tgz'` ./outputs\n",
    "!rm -rf ./outputs/*\n",
    "!ls -hlt ./download/outputs-* |head -1"
   ]
  },
  {
   "cell_type": "code",
   "execution_count": 7,
   "metadata": {
    "execution": {
     "iopub.execute_input": "2023-05-13T08:22:47.187818Z",
     "iopub.status.busy": "2023-05-13T08:22:47.187029Z",
     "iopub.status.idle": "2023-05-13T08:22:47.729628Z",
     "shell.execute_reply": "2023-05-13T08:22:47.728927Z",
     "shell.execute_reply.started": "2023-05-13T08:22:47.187783Z"
    }
   },
   "outputs": [
    {
     "name": "stdout",
     "output_type": "stream",
     "text": [
      "/storage/download\n"
     ]
    }
   ],
   "source": [
    "# remove all download\n",
    "%cd /storage/download\n",
    "!rm outputs-*.tgz"
   ]
  }
 ],
 "metadata": {
  "colab": {
   "private_outputs": true,
   "provenance": []
  },
  "gpuClass": "standard",
  "kernelspec": {
   "display_name": "Python 3 (ipykernel)",
   "language": "python",
   "name": "python3"
  },
  "language_info": {
   "codemirror_mode": {
    "name": "ipython",
    "version": 3
   },
   "file_extension": ".py",
   "mimetype": "text/x-python",
   "name": "python",
   "nbconvert_exporter": "python",
   "pygments_lexer": "ipython3",
   "version": "3.9.16"
  }
 },
 "nbformat": 4,
 "nbformat_minor": 4
}
