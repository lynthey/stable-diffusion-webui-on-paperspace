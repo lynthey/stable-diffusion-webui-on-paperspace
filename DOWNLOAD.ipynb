{
 "cells": [
  {
   "cell_type": "code",
   "execution_count": 5,
   "metadata": {
    "execution": {
     "iopub.execute_input": "2023-05-13T01:37:47.647841Z",
     "iopub.status.busy": "2023-05-13T01:37:47.647565Z",
     "iopub.status.idle": "2023-05-13T01:37:48.217250Z",
     "shell.execute_reply": "2023-05-13T01:37:48.216307Z",
     "shell.execute_reply.started": "2023-05-13T01:37:47.647818Z"
    },
    "id": "qfGtMLwLpCr3"
   },
   "outputs": [
    {
     "name": "stdout",
     "output_type": "stream",
     "text": [
     ]
    }
   ],
   "source": [
    "%cd /storage/\n",
    "#!tar -czvf `date +'./download/outputs-%Y%m%d%H%M%S.tgz'` ./outputs\n",
    "!rm -rf ./outputs/*"
   ]
  }
 ],
 "metadata": {
  "colab": {
   "private_outputs": true,
   "provenance": []
  },
  "gpuClass": "standard",
  "kernelspec": {
   "display_name": "Python 3 (ipykernel)",
   "language": "python",
   "name": "python3"
  },
  "language_info": {
   "codemirror_mode": {
    "name": "ipython",
    "version": 3
   },
   "file_extension": ".py",
   "mimetype": "text/x-python",
   "name": "python",
   "nbconvert_exporter": "python",
   "pygments_lexer": "ipython3",
   "version": "3.9.16"
  }
 },
 "nbformat": 4,
 "nbformat_minor": 4
}
