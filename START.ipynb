{
 "cells": [
  {
   "cell_type": "code",
   "execution_count": null,
   "metadata": {
    "execution": {
     "iopub.execute_input": "2023-05-05T18:46:16.681893Z",
     "iopub.status.busy": "2023-05-05T18:46:16.681625Z"
    },
    "id": "qfGtMLwLpCr3"
   },
   "outputs": [
    {
     "name": "stdout",
     "output_type": "stream",
     "text": [
     ]
    }
   ],
   "source": [
    "# STABLE DIFFUSION WEBUI\n",
    "!apt update\n",
    "!apt -y install python3.10\n",
    "!curl -sS https://bootstrap.pypa.io/get-pip.py | python3.10\n",
    "!python3.10 -m pip install torch==1.13.1+cu116 torchvision==0.14.1+cu116 torchaudio==0.13.1 --extra-index-url https://download.pytorch.org/whl/cu116 -U\n",
    "!python3.10 -m pip install -q xformers==0.0.16\n",
    "!python3.10 -m pip install -q triton==2.0.0\n",
    "%cd /storage/stable-diffusion-webui\n",
    "!python3.10 launch.py --xformers --enable-insecure-extension-access --share --gradio-queue"
   ]
  }
 ],
 "metadata": {
  "colab": {
   "private_outputs": true,
   "provenance": []
  },
  "gpuClass": "standard",
  "kernelspec": {
   "display_name": "Python 3 (ipykernel)",
   "language": "python",
   "name": "python3"
  },
  "language_info": {
   "codemirror_mode": {
    "name": "ipython",
    "version": 3
   },
   "file_extension": ".py",
   "mimetype": "text/x-python",
   "name": "python",
   "nbconvert_exporter": "python",
   "pygments_lexer": "ipython3",
   "version": "3.9.16"
  }
 },
 "nbformat": 4,
 "nbformat_minor": 4
}
