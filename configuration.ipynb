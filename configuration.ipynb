{
 "cells": [
  {
   "cell_type": "code",
   "execution_count": 32,
   "metadata": {
    "execution": {
     "iopub.execute_input": "2023-05-05T04:58:43.437655Z",
     "iopub.status.busy": "2023-05-05T04:58:43.437039Z",
     "iopub.status.idle": "2023-05-05T04:58:51.464462Z",
     "shell.execute_reply": "2023-05-05T04:58:51.463799Z",
     "shell.execute_reply.started": "2023-05-05T04:58:43.437627Z"
    },
    "id": "JMVf8COkpK0e"
   },
   "outputs": [
    {
     "name": "stdout",
     "output_type": "stream",
     "text": [
     ]
    }
   ],
   "source": [
    "# SETUP AUTOMATIC1111\n",
    "%cd /storage\n",
    "!mkdir models\n",
    "!mkdir outputs\n",
    "!rm -rf stable-diffusion-webui\n",
    "!mkdir stable-diffusion-webui\n",
    "%cd stable-diffusion-webui\n",
    "!git clone https://github.com/AUTOMATIC1111/stable-diffusion-webui .\n",
    "!rm -rf models\n",
    "!ln -sf /storage/models .\n",
    "!rm -rf outputs\n",
    "!ln -sf /storage/outputs .\n",
    "%cd /notebooks\n",
    "!ln -sf /storage/models .\n",
    "!ln -sf /storage/outputs .\n"
   ]
  },
  {
   "cell_type": "code",
   "execution_count": 37,
   "metadata": {
    "execution": {
     "iopub.execute_input": "2023-05-05T06:11:58.587636Z",
     "iopub.status.busy": "2023-05-05T06:11:58.586987Z",
     "iopub.status.idle": "2023-05-05T06:12:02.451330Z",
     "shell.execute_reply": "2023-05-05T06:12:02.450421Z",
     "shell.execute_reply.started": "2023-05-05T06:11:58.587608Z"
    }
   },
   "outputs": [
    {
     "name": "stdout",
     "output_type": "stream",
     "text": [
     ]
    }
   ],
   "source": [
    "# DOWNLOAD MODELS/VAE/LORA etc\n",
    "%cd /storage/models/VAE\n",
    "!wget -nc https://huggingface.co/stabilityai/sd-vae-ft-mse-original/resolve/main/vae-ft-mse-840000-ema-pruned.ckpt\n",
    "%cd /storage/stable-diffusion-webui/embeddings\n",
    "!wget -nc https://huggingface.co/datasets/gsdf/EasyNegative/resolve/main/EasyNegative.safetensors\n",
    "%cd /storage/models/Stable-diffusion/\n",
    "!wget -nc -O sodamix.safetensors https://civitai.com/api/download/models/52102\n",
    "!wget -nc https://huggingface.co/sazyou-roukaku/chilled_remix/resolve/main/chilled_remixb_v1vae.safetensors\n",
    "!wget -nc -O Chilloutmix-Ni-pruned-fp32-fix.safetensors https://civitai.com/api/download/models/11745\n",
    "!wget -nc -O braBeautifulRealisticAsiansV4.safetensors https://civitai.com/api/download/models/51395\n",
    "%cd /storage/models/Lora\n",
    "!wget -nc https://huggingface.co/AnonPerson/ChilloutMix/resolve/main/Japanese-doll-likeness.safetensors\n",
    "!wget -nc https://huggingface.co/AnonPerson/ChilloutMix/resolve/main/Korean-doll-likeness.safetensors\n",
    "!wget -nc https://huggingface.co/AnonPerson/ChilloutMix/resolve/main/Taiwan-doll-likeness.safetensors\n",
    "!wget -nc -O YaeMiko_Test.safetensors https://civitai.com/api/download/models/11523\n",
    "\n"
   ]
  }
 ],
 "metadata": {
  "colab": {
   "private_outputs": true,
   "provenance": []
  },
  "gpuClass": "standard",
  "kernelspec": {
   "display_name": "Python 3 (ipykernel)",
   "language": "python",
   "name": "python3"
  },
  "language_info": {
   "codemirror_mode": {
    "name": "ipython",
    "version": 3
   },
   "file_extension": ".py",
   "mimetype": "text/x-python",
   "name": "python",
   "nbconvert_exporter": "python",
   "pygments_lexer": "ipython3",
   "version": "3.9.16"
  }
 },
 "nbformat": 4,
 "nbformat_minor": 4
}
